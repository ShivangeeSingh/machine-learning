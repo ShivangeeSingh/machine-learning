{
  "nbformat": 4,
  "nbformat_minor": 0,
  "metadata": {
    "colab": {
      "name": "data_visualisation1",
      "version": "0.3.2",
      "provenance": [],
      "include_colab_link": true
    },
    "kernelspec": {
      "name": "python3",
      "display_name": "Python 3"
    }
  },
  "cells": [
    {
      "cell_type": "markdown",
      "metadata": {
        "id": "view-in-github",
        "colab_type": "text"
      },
      "source": [
        "<a href=\"https://colab.research.google.com/github/ShivangeeSingh/machine-learning/blob/supervisedml/data_visualisation1.ipynb\" target=\"_parent\"><img src=\"https://colab.research.google.com/assets/colab-badge.svg\" alt=\"Open In Colab\"/></a>"
      ]
    },
    {
      "cell_type": "code",
      "metadata": {
        "id": "0ZBmNqh-GzMM",
        "colab_type": "code",
        "colab": {}
      },
      "source": [
        "import csv"
      ],
      "execution_count": 0,
      "outputs": []
    },
    {
      "cell_type": "code",
      "metadata": {
        "id": "yV8lwx8bH7kN",
        "colab_type": "code",
        "colab": {}
      },
      "source": [
        "with open('student.csv','w',newline='') as csvf:\n",
        "  fieldnames = ['student_name', 'marks', 'age', 'contact_no', 'study_hours']\n",
        "  thewriter = csv.DictWriter(csvf, fieldnames=fieldnames)\n",
        "  \n",
        "  thewriter.writeheader()\n",
        "  for i in fieldnames:\n",
        "    thewriter.writerow({'student_name' : 'Shivi', 'marks' : '89', 'contact_no' : '9610239452', 'age' : '19', 'study_hours' : '5'})\n",
        "    thewriter.writerow({'student_name' : 'Ram', 'marks' : '69', 'contact_no' : '9000239452', 'age' : '21', 'study_hours' : '5='})\n",
        "    thewriter.writerow({'student_name' : 'Urvashi', 'marks' : '78', 'contact_no' : '9110239400', 'age' : '19', 'study_hours' : '3'})\n",
        "    thewriter.writerow({'student_name' : 'Saurabh', 'marks' : '84', 'contact_no' : '9230239433', 'age' : '22', 'study_hours' : '4'})\n",
        "    thewriter.writerow({'student_name' : 'Sunakshi', 'marks' : '72', 'contact_no' : '9230234433', 'age' : '19', 'study_hours' : '4'})"
      ],
      "execution_count": 0,
      "outputs": []
    },
    {
      "cell_type": "code",
      "metadata": {
        "id": "dnVcBg5fLAW7",
        "colab_type": "code",
        "colab": {}
      },
      "source": [
        "import pandas as pd"
      ],
      "execution_count": 0,
      "outputs": []
    },
    {
      "cell_type": "code",
      "metadata": {
        "id": "kDBHKppqW99G",
        "colab_type": "code",
        "colab": {}
      },
      "source": [
        "data = pd.read_csv(\"student.csv\")"
      ],
      "execution_count": 0,
      "outputs": []
    },
    {
      "cell_type": "code",
      "metadata": {
        "id": "x8Ra5sKkXIkH",
        "colab_type": "code",
        "colab": {
          "base_uri": "https://localhost:8080/",
          "height": 195
        },
        "outputId": "aa291aa6-7902-44bd-e205-260419d0bcc6"
      },
      "source": [
        "data.head(5)"
      ],
      "execution_count": 26,
      "outputs": [
        {
          "output_type": "execute_result",
          "data": {
            "text/html": [
              "<div>\n",
              "<style scoped>\n",
              "    .dataframe tbody tr th:only-of-type {\n",
              "        vertical-align: middle;\n",
              "    }\n",
              "\n",
              "    .dataframe tbody tr th {\n",
              "        vertical-align: top;\n",
              "    }\n",
              "\n",
              "    .dataframe thead th {\n",
              "        text-align: right;\n",
              "    }\n",
              "</style>\n",
              "<table border=\"1\" class=\"dataframe\">\n",
              "  <thead>\n",
              "    <tr style=\"text-align: right;\">\n",
              "      <th></th>\n",
              "      <th>student_name</th>\n",
              "      <th>marks</th>\n",
              "      <th>age</th>\n",
              "      <th>contact_no</th>\n",
              "      <th>study_hours</th>\n",
              "    </tr>\n",
              "  </thead>\n",
              "  <tbody>\n",
              "    <tr>\n",
              "      <th>0</th>\n",
              "      <td>Shivi</td>\n",
              "      <td>89</td>\n",
              "      <td>19</td>\n",
              "      <td>9610239452</td>\n",
              "      <td>5</td>\n",
              "    </tr>\n",
              "    <tr>\n",
              "      <th>1</th>\n",
              "      <td>Ram</td>\n",
              "      <td>69</td>\n",
              "      <td>21</td>\n",
              "      <td>9000239452</td>\n",
              "      <td>5</td>\n",
              "    </tr>\n",
              "    <tr>\n",
              "      <th>2</th>\n",
              "      <td>Urvashi</td>\n",
              "      <td>78</td>\n",
              "      <td>19</td>\n",
              "      <td>9110239400</td>\n",
              "      <td>3</td>\n",
              "    </tr>\n",
              "    <tr>\n",
              "      <th>3</th>\n",
              "      <td>Saurabh</td>\n",
              "      <td>84</td>\n",
              "      <td>22</td>\n",
              "      <td>9230239433</td>\n",
              "      <td>4</td>\n",
              "    </tr>\n",
              "    <tr>\n",
              "      <th>4</th>\n",
              "      <td>Sunakshi</td>\n",
              "      <td>72</td>\n",
              "      <td>19</td>\n",
              "      <td>9230234433</td>\n",
              "      <td>4</td>\n",
              "    </tr>\n",
              "  </tbody>\n",
              "</table>\n",
              "</div>"
            ],
            "text/plain": [
              "  student_name  marks  age  contact_no  study_hours\n",
              "0        Shivi     89   19  9610239452            5\n",
              "1          Ram     69   21  9000239452            5\n",
              "2      Urvashi     78   19  9110239400            3\n",
              "3      Saurabh     84   22  9230239433            4\n",
              "4     Sunakshi     72   19  9230234433            4"
            ]
          },
          "metadata": {
            "tags": []
          },
          "execution_count": 26
        }
      ]
    },
    {
      "cell_type": "code",
      "metadata": {
        "id": "SR5Nsh4-XNFU",
        "colab_type": "code",
        "colab": {}
      },
      "source": [
        "import matplotlib.pyplot as plt"
      ],
      "execution_count": 0,
      "outputs": []
    },
    {
      "cell_type": "code",
      "metadata": {
        "id": "1ZHcbgSVY1fT",
        "colab_type": "code",
        "colab": {
          "base_uri": "https://localhost:8080/",
          "height": 255
        },
        "outputId": "d758d433-11f1-412f-aaf9-6863f187a408"
      },
      "source": [
        "stn_name=['Shivi','Ram','Urvashi','Saurabh','Sunakshi']\n",
        "marks=[89,69,78,84,72]\n",
        "exp=(0.1,0,0,0,0.2)\n",
        "plt.pie(marks,labels=stn_name, explode=exp,autopct='%1.1f%%', shadow=True)\n",
        "plt.grid(color=\"green\")\n",
        "plt.legend()\n",
        "plt.show()"
      ],
      "execution_count": 30,
      "outputs": [
        {
          "output_type": "display_data",
          "data": {
            "image/png": "[encoded data removed]",
            "text/plain": [
              "<Figure size 432x288 with 1 Axes>"
            ]
          },
          "metadata": {
            "tags": []
          }
        }
      ]
    },
    {
      "cell_type": "code",
      "metadata": {
        "id": "TnSrUIKvcMqf",
        "colab_type": "code",
        "colab": {}
      },
      "source": [
        ""
      ],
      "execution_count": 0,
      "outputs": []
    }
  ]
}