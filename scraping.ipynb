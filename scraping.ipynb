{
  "nbformat": 4,
  "nbformat_minor": 0,
  "metadata": {
    "colab": {
      "name": "scraping",
      "version": "0.3.2",
      "provenance": [],
      "include_colab_link": true
    },
    "kernelspec": {
      "name": "python3",
      "display_name": "Python 3"
    }
  },
  "cells": [
    {
      "cell_type": "markdown",
      "metadata": {
        "id": "view-in-github",
        "colab_type": "text"
      },
      "source": [
        "<a href=\"https://colab.research.google.com/github/ShivangeeSingh/machine-learning/blob/supervisedml/scraping.ipynb\" target=\"_parent\"><img src=\"https://colab.research.google.com/assets/colab-badge.svg\" alt=\"Open In Colab\"/></a>"
      ]
    },
    {
      "cell_type": "code",
      "metadata": {
        "id": "Ua4qMpQDVaCO",
        "colab_type": "code",
        "colab": {}
      },
      "source": [
        "from bs4 import BeautifulSoup"
      ],
      "execution_count": 0,
      "outputs": []
    },
    {
      "cell_type": "code",
      "metadata": {
        "id": "uN1txllEVjdH",
        "colab_type": "code",
        "colab": {}
      },
      "source": [
        "import requests"
      ],
      "execution_count": 0,
      "outputs": []
    },
    {
      "cell_type": "code",
      "metadata": {
        "id": "AVsIh1KNVmp2",
        "colab_type": "code",
        "colab": {}
      },
      "source": [
        "url = 'https://en.wikipedia.org/Saprotrophic_nutrition'"
      ],
      "execution_count": 0,
      "outputs": []
    },
    {
      "cell_type": "code",
      "metadata": {
        "id": "G8pzFWwHVpSd",
        "colab_type": "code",
        "colab": {
          "base_uri": "https://localhost:8080/",
          "height": 34
        },
        "outputId": "6eb37774-ecc4-42ac-f6bd-9236b5621bb5"
      },
      "source": [
        "# we are sending requests to the url and taking the response\n",
        "response=requests.get(url)\n",
        "response"
      ],
      "execution_count": 4,
      "outputs": [
        {
          "output_type": "execute_result",
          "data": {
            "text/plain": [
              "<Response [404]>"
            ]
          },
          "metadata": {
            "tags": []
          },
          "execution_count": 4
        }
      ]
    },
    {
      "cell_type": "code",
      "metadata": {
        "id": "azeSQurxVsmh",
        "colab_type": "code",
        "colab": {
          "base_uri": "https://localhost:8080/",
          "height": 54
        },
        "outputId": "e5a741d0-e1c1-4751-8cde-a2dd0f02a998"
      },
      "source": [
        "response.text"
      ],
      "execution_count": 5,
      "outputs": [
        {
          "output_type": "execute_result",
          "data": {
            "text/plain": [
              "'<!DOCTYPE html>\\n<html lang=\"en\" dir=\"ltr\">\\n<meta charset=\"utf-8\">\\n<title>Not Found</title>\\n<link rel=\"shortcut icon\" href=\"/favicon.ico\">\\n<style>\\n* { margin: 0; padding: 0; }\\nbody { background: #fff; font: 15px/1.6 sans-serif; color: #333; }\\n.content { margin: 7% auto 0; padding: 2em 1em 1em; max-width: 640px; }\\nimg { float: left; margin: 0 2em 2em 0; }\\na img { border: 0; }\\nh1 { margin-top: 1em; font-size: 1.2em; }\\np { margin: 0.7em 0 1em 0; }\\na { color: #0645AD; text-decoration: none; }\\na:hover { text-decoration: underline; }\\nem { font-style: normal; color: #777; }\\n</style>\\n<div class=\"content\" role=\"main\">\\n<a href=\"https://www.wikimedia.org\"><img src=\"https://www.wikimedia.org/static/images/wmf.png\" srcset=\"https://www.wikimedia.org/static/images/wmf-2x.png 2x\" alt=Wikimedia width=135 height=135></a>\\n<h1>Page not found</h1>\\n<p><em>/Saprotrophic_nutrition</em></p>\\n<p>We could not find the above page on our servers.</p>\\n<p><b>Did you mean: <a href=\"/wiki/Saprotrophic_nutrition\">/wiki/Saprotrophic_nutrition</a></b></p>\\n<div style=\"clear:both;\"></div>\\n<p>Alternatively, you can visit the <a href=\"/\">Main Page</a> or read <a href=\"https://en.wikipedia.org/wiki/HTTP_404\" title=\"Wikipedia: HTTP 404\">more information</a> about this type of error.</p>\\n</div>\\n</html>'"
            ]
          },
          "metadata": {
            "tags": []
          },
          "execution_count": 5
        }
      ]
    },
    {
      "cell_type": "code",
      "metadata": {
        "id": "my-7qW-MVxPl",
        "colab_type": "code",
        "colab": {}
      },
      "source": [
        "# parsing library - html.parser and second is lxml\n",
        "soup=BeautifulSoup(response.text,\"lxml\")"
      ],
      "execution_count": 0,
      "outputs": []
    },
    {
      "cell_type": "code",
      "metadata": {
        "id": "pUiLHA_CV0AN",
        "colab_type": "code",
        "colab": {
          "base_uri": "https://localhost:8080/",
          "height": 87
        },
        "outputId": "d419cebe-97a1-402e-c352-11860c2a73cd"
      },
      "source": [
        "for Alink in soup.find_all('a'):\n",
        "    # print(Alink)\n",
        "    # for aherf in soup.find_all('href')\n",
        "    print(Alink.get('href'))"
      ],
      "execution_count": 13,
      "outputs": [
        {
          "output_type": "stream",
          "text": [
            "https://www.wikimedia.org\n",
            "/wiki/Saprotrophic_nutrition\n",
            "/\n",
            "https://en.wikipedia.org/wiki/HTTP_404\n"
          ],
          "name": "stdout"
        }
      ]
    },
    {
      "cell_type": "code",
      "metadata": {
        "id": "oDHU2zoMV944",
        "colab_type": "code",
        "colab": {
          "base_uri": "https://localhost:8080/",
          "height": 125
        },
        "outputId": "84e4b76c-ac64-461b-d951-d3021e5d5ce5"
      },
      "source": [
        "for ptag in soup.find_all('p'):\n",
        "  print(ptag)\n",
        "  #now for second loop for b tag\n",
        "  \n",
        "  for btag in ptag.find_all('b'):\n",
        "    print(btag)\n",
        "   "
      ],
      "execution_count": 15,
      "outputs": [
        {
          "output_type": "stream",
          "text": [
            "<p><em>/Saprotrophic_nutrition</em></p>\n",
            "<p>We could not find the above page on our servers.</p>\n",
            "<p><b>Did you mean: <a href=\"/wiki/Saprotrophic_nutrition\">/wiki/Saprotrophic_nutrition</a></b></p>\n",
            "<b>Did you mean: <a href=\"/wiki/Saprotrophic_nutrition\">/wiki/Saprotrophic_nutrition</a></b>\n",
            "<p>Alternatively, you can visit the <a href=\"/\">Main Page</a> or read <a href=\"https://en.wikipedia.org/wiki/HTTP_404\" title=\"Wikipedia: HTTP 404\">more information</a> about this type of error.</p>\n"
          ],
          "name": "stdout"
        }
      ]
    },
    {
      "cell_type": "code",
      "metadata": {
        "id": "01xsLWmvX2Vw",
        "colab_type": "code",
        "colab": {}
      },
      "source": [
        ""
      ],
      "execution_count": 0,
      "outputs": []
    }
  ]
}