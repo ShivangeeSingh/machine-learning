{
 "cells": [
  {
   "cell_type": "code",
   "execution_count": 1,
   "metadata": {},
   "outputs": [
    {
     "name": "stderr",
     "output_type": "stream",
     "text": [
      "Using TensorFlow backend.\n"
     ]
    }
   ],
   "source": [
    "import numpy as np\n",
    "import cv2\n",
    "from keras.preprocessing import image\n",
    "import time"
   ]
  },
  {
   "cell_type": "code",
   "execution_count": 2,
   "metadata": {},
   "outputs": [],
   "source": [
    "face_cascade = cv2.CascadeClassifier('face.xml')"
   ]
  },
  {
   "cell_type": "code",
   "execution_count": 3,
   "metadata": {},
   "outputs": [
    {
     "name": "stderr",
     "output_type": "stream",
     "text": [
      "WARNING: Logging before flag parsing goes to stderr.\n",
      "W0714 11:29:57.633522  9448 deprecation_wrapper.py:119] From D:\\New folder\\lib\\site-packages\\keras\\backend\\tensorflow_backend.py:74: The name tf.get_default_graph is deprecated. Please use tf.compat.v1.get_default_graph instead.\n",
      "\n",
      "W0714 11:29:57.657858  9448 deprecation_wrapper.py:119] From D:\\New folder\\lib\\site-packages\\keras\\backend\\tensorflow_backend.py:517: The name tf.placeholder is deprecated. Please use tf.compat.v1.placeholder instead.\n",
      "\n",
      "W0714 11:29:57.665905  9448 deprecation_wrapper.py:119] From D:\\New folder\\lib\\site-packages\\keras\\backend\\tensorflow_backend.py:4138: The name tf.random_uniform is deprecated. Please use tf.random.uniform instead.\n",
      "\n",
      "W0714 11:29:57.695623  9448 deprecation_wrapper.py:119] From D:\\New folder\\lib\\site-packages\\keras\\backend\\tensorflow_backend.py:3976: The name tf.nn.max_pool is deprecated. Please use tf.nn.max_pool2d instead.\n",
      "\n",
      "W0714 11:29:57.748165  9448 deprecation_wrapper.py:119] From D:\\New folder\\lib\\site-packages\\keras\\backend\\tensorflow_backend.py:3980: The name tf.nn.avg_pool is deprecated. Please use tf.nn.avg_pool2d instead.\n",
      "\n",
      "W0714 11:29:57.838782  9448 deprecation_wrapper.py:119] From D:\\New folder\\lib\\site-packages\\keras\\backend\\tensorflow_backend.py:133: The name tf.placeholder_with_default is deprecated. Please use tf.compat.v1.placeholder_with_default instead.\n",
      "\n",
      "W0714 11:29:57.855301  9448 deprecation.py:506] From D:\\New folder\\lib\\site-packages\\keras\\backend\\tensorflow_backend.py:3445: calling dropout (from tensorflow.python.ops.nn_ops) with keep_prob is deprecated and will be removed in a future version.\n",
      "Instructions for updating:\n",
      "Please use `rate` instead of `keep_prob`. Rate should be set to `rate = 1 - keep_prob`.\n",
      "W0714 11:29:58.019670  9448 deprecation_wrapper.py:119] From D:\\New folder\\lib\\site-packages\\keras\\backend\\tensorflow_backend.py:174: The name tf.get_default_session is deprecated. Please use tf.compat.v1.get_default_session instead.\n",
      "\n"
     ]
    }
   ],
   "source": [
    "from keras.models import model_from_json\n",
    "model = model_from_json(open(\"facial_expression_model_structure.json\", \"r\").read())\n",
    "model.load_weights('facial_expression_model_weights.h5') #load weight"
   ]
  },
  {
   "cell_type": "code",
   "execution_count": 8,
   "metadata": {},
   "outputs": [],
   "source": [
    "emotions = ('angry', 'disgust', 'fear', 'happy', 'sad', 'surprise', 'neutral')\n",
    "\n",
    "cap = cv2.VideoCapture(0) #process real time web-cam\n",
    "\n",
    "frame = 0\n",
    "\n",
    "while(True):\n",
    "        ret, img = cap.read()\n",
    "        \n",
    "        img = cv2.resize(img, (640, 360))\n",
    "        img = img[0:308,:]\n",
    "\n",
    "        gray = cv2.cvtColor(img, cv2.COLOR_BGR2GRAY)\n",
    "\n",
    "        faces = face_cascade.detectMultiScale(gray, 1.3, 5)\n",
    "\n",
    "        for (x,y,w,h) in faces:\n",
    "            if w > 130: #trick: ignore small faces\n",
    "                #cv2.rectangle(img,(x,y),(x+w,y+h),(64,64,64),2) #highlight detected face\n",
    "                \n",
    "                detected_face = img[int(y):int(y+h), int(x):int(x+w)] #crop detected face\n",
    "                detected_face = cv2.cvtColor(detected_face, cv2.COLOR_BGR2GRAY) #transform to gray scale\n",
    "                detected_face = cv2.resize(detected_face, (48, 48)) #resize to 48x48\n",
    "                \n",
    "                img_pixels = image.img_to_array(detected_face)\n",
    "                img_pixels = np.expand_dims(img_pixels, axis = 0)\n",
    "                \n",
    "                img_pixels /= 255 #pixels are in scale of [0, 255]. normalize all pixels in scale of [0, 1]\n",
    "                \n",
    "                #------------------------------\n",
    "                \n",
    "                predictions = model.predict(img_pixels) #store probabilities of 7 expressions\n",
    "                max_index = np.argmax(predictions[0])\n",
    "                \n",
    "                #background of expression list\n",
    "                overlay = img.copy()\n",
    "                opacity = 0.4\n",
    "                cv2.rectangle(img,(x+w+10,y-25),(x+w+150,y+115),(64,64,64),cv2.FILLED)\n",
    "                cv2.addWeighted(overlay, opacity, img, 1 - opacity, 0, img)\n",
    "                \n",
    "                #connect face and expressions\n",
    "                cv2.line(img,(int((x+x+w)/2),y+15),(x+w,y-20),(255,255,255),1)\n",
    "                cv2.line(img,(x+w,y-20),(x+w+10,y-20),(255,255,255),1)\n",
    "                \n",
    "                emotion = \"\"\n",
    "                for i in range(len(predictions[0])):\n",
    "                    emotion = \"%s %s%s\" % (emotions[i], round(predictions[0][i]*100, 2), '%')\n",
    "                    \n",
    "                    \"\"\"if i != max_index:\n",
    "                        color = (255,0,0)\"\"\"\n",
    "                        \n",
    "                    color = (255,255,255)\n",
    "                    \n",
    "                    cv2.putText(img, emotion, (int(x+w+15), int(y-12+i*20)), cv2.FONT_HERSHEY_SIMPLEX, 0.5, color, 1)\n",
    "                    \n",
    "                #-------------------------\n",
    "        \n",
    "        cv2.imshow('img',img)\n",
    "        \n",
    "        frame = frame + 1\n",
    "        #print(frame)\n",
    "        \n",
    "        #---------------------------------\n",
    "        \n",
    "        \n",
    "        if cv2.waitKey(1) & 0xFF == ord('q'): #press q to quit\n",
    "            break\n",
    "\n",
    "#kill open cv things\n",
    "cap.release()\n",
    "cv2.destroyAllWindows()"
   ]
  },
  {
   "cell_type": "code",
   "execution_count": null,
   "metadata": {},
   "outputs": [],
   "source": []
  }
 ],
 "metadata": {
  "kernelspec": {
   "display_name": "Python 3",
   "language": "python",
   "name": "python3"
  },
  "language_info": {
   "codemirror_mode": {
    "name": "ipython",
    "version": 3
   },
   "file_extension": ".py",
   "mimetype": "text/x-python",
   "name": "python",
   "nbconvert_exporter": "python",
   "pygments_lexer": "ipython3",
   "version": "3.7.3"
  }
 },
 "nbformat": 4,
 "nbformat_minor": 2
}
