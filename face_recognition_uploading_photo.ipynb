{
 "cells": [
  {
   "cell_type": "code",
   "execution_count": 1,
   "metadata": {},
   "outputs": [
    {
     "name": "stderr",
     "output_type": "stream",
     "text": [
      "Using TensorFlow backend.\n"
     ]
    }
   ],
   "source": [
    "import tensorflow as tf\n",
    "\n",
    "import keras\n",
    "from keras.models import Sequential\n",
    "from keras.layers import Conv2D, MaxPooling2D, AveragePooling2D\n",
    "from keras.layers import Dense, Activation, Dropout, Flatten\n",
    "\n",
    "from keras.preprocessing import image\n",
    "from keras.preprocessing.image import ImageDataGenerator\n",
    "\n",
    "import numpy as np\n",
    "import matplotlib.pyplot as plt"
   ]
  },
  {
   "cell_type": "code",
   "execution_count": 2,
   "metadata": {},
   "outputs": [],
   "source": [
    "#cpu - gpu configuration\n",
    "config = tf.ConfigProto( device_count = {'GPU': 0 , 'CPU': 56} ) #max: 1 gpu, 56 cpu\n",
    "sess = tf.Session(config=config) \n",
    "keras.backend.set_session(sess)"
   ]
  },
  {
   "cell_type": "code",
   "execution_count": 3,
   "metadata": {},
   "outputs": [],
   "source": [
    "#variables\n",
    "num_classes = 7 #angry, disgust, fear, happy, sad, surprise, neutral\n",
    "batch_size = 250\n",
    "epochs = 110"
   ]
  },
  {
   "cell_type": "code",
   "execution_count": 4,
   "metadata": {},
   "outputs": [
    {
     "name": "stdout",
     "output_type": "stream",
     "text": [
      "number of instances:  35888\n",
      "instance length:  2304\n"
     ]
    }
   ],
   "source": [
    "with open(\"fer2013.csv\") as f:\n",
    "    content = f.readlines()\n",
    "\n",
    "lines = np.array(content)\n",
    "\n",
    "num_of_instances = lines.size\n",
    "print(\"number of instances: \",num_of_instances)\n",
    "print(\"instance length: \",len(lines[1].split(\",\")[1].split(\" \")))"
   ]
  },
  {
   "cell_type": "code",
   "execution_count": 5,
   "metadata": {},
   "outputs": [],
   "source": [
    "#initialize trainset and test set\n",
    "x_train, y_train, x_test, y_test = [], [], [], []"
   ]
  },
  {
   "cell_type": "code",
   "execution_count": 6,
   "metadata": {},
   "outputs": [],
   "source": [
    "#transfer train and test set data\n",
    "for i in range(1,num_of_instances):\n",
    "    try:\n",
    "        emotion, img, usage = lines[i].split(\",\")\n",
    "          \n",
    "        val = img.split(\" \")\n",
    "            \n",
    "        pixels = np.array(val, 'float32')\n",
    "        \n",
    "        emotion = keras.utils.to_categorical(emotion, num_classes)\n",
    "    \n",
    "        if 'Training' in usage:\n",
    "            y_train.append(emotion)\n",
    "            x_train.append(pixels)\n",
    "        elif 'PublicTest' in usage:\n",
    "            y_test.append(emotion)\n",
    "            x_test.append(pixels)\n",
    "    except:\n",
    "        print(\"\",end=\"\")"
   ]
  },
  {
   "cell_type": "code",
   "execution_count": 7,
   "metadata": {},
   "outputs": [
    {
     "name": "stdout",
     "output_type": "stream",
     "text": [
      "28709 train samples\n",
      "3589 test samples\n"
     ]
    }
   ],
   "source": [
    "#data transformation for train and test sets\n",
    "x_train = np.array(x_train, 'float32')\n",
    "y_train = np.array(y_train, 'float32')\n",
    "x_test = np.array(x_test, 'float32')\n",
    "y_test = np.array(y_test, 'float32')\n",
    "\n",
    "x_train /= 255 #normalize inputs between [0, 1]\n",
    "x_test /= 255\n",
    "\n",
    "x_train = x_train.reshape(x_train.shape[0], 48, 48, 1)\n",
    "x_train = x_train.astype('float32')\n",
    "x_test = x_test.reshape(x_test.shape[0], 48, 48, 1)\n",
    "x_test = x_test.astype('float32')\n",
    "\n",
    "print(x_train.shape[0], 'train samples')\n",
    "print(x_test.shape[0], 'test samples')"
   ]
  },
  {
   "cell_type": "code",
   "execution_count": 8,
   "metadata": {},
   "outputs": [
    {
     "name": "stderr",
     "output_type": "stream",
     "text": [
      "WARNING: Logging before flag parsing goes to stderr.\n",
      "W0714 11:00:03.290125 14416 deprecation_wrapper.py:119] From D:\\New folder\\lib\\site-packages\\keras\\backend\\tensorflow_backend.py:74: The name tf.get_default_graph is deprecated. Please use tf.compat.v1.get_default_graph instead.\n",
      "\n",
      "W0714 11:00:03.294448 14416 deprecation_wrapper.py:119] From D:\\New folder\\lib\\site-packages\\keras\\backend\\tensorflow_backend.py:517: The name tf.placeholder is deprecated. Please use tf.compat.v1.placeholder instead.\n",
      "\n",
      "W0714 11:00:03.299210 14416 deprecation_wrapper.py:119] From D:\\New folder\\lib\\site-packages\\keras\\backend\\tensorflow_backend.py:4138: The name tf.random_uniform is deprecated. Please use tf.random.uniform instead.\n",
      "\n",
      "W0714 11:00:03.367763 14416 deprecation_wrapper.py:119] From D:\\New folder\\lib\\site-packages\\keras\\backend\\tensorflow_backend.py:3976: The name tf.nn.max_pool is deprecated. Please use tf.nn.max_pool2d instead.\n",
      "\n",
      "W0714 11:00:03.466827 14416 deprecation_wrapper.py:119] From D:\\New folder\\lib\\site-packages\\keras\\backend\\tensorflow_backend.py:3980: The name tf.nn.avg_pool is deprecated. Please use tf.nn.avg_pool2d instead.\n",
      "\n"
     ]
    }
   ],
   "source": [
    "#construct CNN structure\n",
    "model = Sequential()\n",
    "\n",
    "#1st convolution layer\n",
    "model.add(Conv2D(64, (5, 5), activation='relu', input_shape=(48,48,1)))\n",
    "model.add(MaxPooling2D(pool_size=(3,3), strides=(2, 2)))\n",
    "\n",
    "#2nd convolution layer\n",
    "model.add(Conv2D(64, (3, 3), activation='relu'))\n",
    "model.add(Conv2D(64, (3, 3), activation='relu'))\n",
    "model.add(AveragePooling2D(pool_size=(3,3), strides=(2, 2)))\n",
    "\n",
    "#3rd convolution layer\n",
    "model.add(Conv2D(128, (3, 3), activation='relu'))\n",
    "model.add(Conv2D(128, (3, 3), activation='relu'))\n",
    "model.add(AveragePooling2D(pool_size=(3,3), strides=(2, 2)))\n",
    "\n",
    "model.add(Flatten())"
   ]
  },
  {
   "cell_type": "code",
   "execution_count": 9,
   "metadata": {},
   "outputs": [
    {
     "name": "stderr",
     "output_type": "stream",
     "text": [
      "W0713 14:46:14.298072 18336 deprecation_wrapper.py:119] From D:\\New folder\\lib\\site-packages\\keras\\backend\\tensorflow_backend.py:133: The name tf.placeholder_with_default is deprecated. Please use tf.compat.v1.placeholder_with_default instead.\n",
      "\n",
      "W0713 14:46:14.310042 18336 deprecation.py:506] From D:\\New folder\\lib\\site-packages\\keras\\backend\\tensorflow_backend.py:3445: calling dropout (from tensorflow.python.ops.nn_ops) with keep_prob is deprecated and will be removed in a future version.\n",
      "Instructions for updating:\n",
      "Please use `rate` instead of `keep_prob`. Rate should be set to `rate = 1 - keep_prob`.\n"
     ]
    }
   ],
   "source": [
    "#fully connected neural networks\n",
    "model.add(Dense(1024, activation='relu'))\n",
    "model.add(Dropout(0.2))\n",
    "model.add(Dense(1024, activation='relu'))\n",
    "model.add(Dropout(0.2))\n",
    "\n",
    "model.add(Dense(num_classes, activation='softmax'))"
   ]
  },
  {
   "cell_type": "code",
   "execution_count": 10,
   "metadata": {},
   "outputs": [
    {
     "name": "stderr",
     "output_type": "stream",
     "text": [
      "W0713 14:46:14.572956 18336 deprecation_wrapper.py:119] From D:\\New folder\\lib\\site-packages\\keras\\optimizers.py:790: The name tf.train.Optimizer is deprecated. Please use tf.compat.v1.train.Optimizer instead.\n",
      "\n",
      "W0713 14:46:14.592955 18336 deprecation_wrapper.py:119] From D:\\New folder\\lib\\site-packages\\keras\\backend\\tensorflow_backend.py:3295: The name tf.log is deprecated. Please use tf.math.log instead.\n",
      "\n"
     ]
    }
   ],
   "source": [
    "#batch process\n",
    "gen = ImageDataGenerator()\n",
    "train_generator = gen.flow(x_train, y_train, batch_size=batch_size)\n",
    "\n",
    "#------------------------------\n",
    "\n",
    "model.compile(loss='categorical_crossentropy', optimizer=keras.optimizers.Adam(), metrics=['accuracy'])\n",
    "# use in case of onehotncoding [1,0,0;0,1,0;0,0,1] \n",
    "# Adam optimization is a stochastic gradient descent method that is based on adaptive estimation of first-order \n",
    "# and second-order moments, the method is \"computationally efficient, has little memory requirement "
   ]
  },
  {
   "cell_type": "code",
   "execution_count": 11,
   "metadata": {},
   "outputs": [
    {
     "name": "stderr",
     "output_type": "stream",
     "text": [
      "W0713 14:46:14.929381 18336 deprecation.py:323] From D:\\New folder\\lib\\site-packages\\tensorflow\\python\\ops\\math_grad.py:1250: add_dispatch_support.<locals>.wrapper (from tensorflow.python.ops.array_ops) is deprecated and will be removed in a future version.\n",
      "Instructions for updating:\n",
      "Use tf.where in 2.0, which has the same broadcast rule as np.where\n"
     ]
    },
    {
     "name": "stdout",
     "output_type": "stream",
     "text": [
      "Epoch 1/110\n",
      "250/250 [==============================] - 278s 1s/step - loss: 1.7736 - acc: 0.2662\n",
      "Epoch 2/110\n",
      "250/250 [==============================] - 276s 1s/step - loss: 1.5428 - acc: 0.3903\n",
      "Epoch 3/110\n",
      "250/250 [==============================] - 274s 1s/step - loss: 1.3531 - acc: 0.4778\n",
      "Epoch 4/110\n",
      "250/250 [==============================] - 268s 1s/step - loss: 1.2436 - acc: 0.5281\n",
      "Epoch 5/110\n",
      "250/250 [==============================] - 271s 1s/step - loss: 1.1737 - acc: 0.5553\n",
      "Epoch 6/110\n",
      "250/250 [==============================] - 268s 1s/step - loss: 1.1041 - acc: 0.5835\n",
      "Epoch 7/110\n",
      "250/250 [==============================] - 268s 1s/step - loss: 1.0433 - acc: 0.6055\n",
      "Epoch 8/110\n",
      "250/250 [==============================] - 268s 1s/step - loss: 0.9859 - acc: 0.6302\n",
      "Epoch 9/110\n",
      "250/250 [==============================] - 268s 1s/step - loss: 0.9212 - acc: 0.6544\n",
      "Epoch 10/110\n",
      "250/250 [==============================] - 269s 1s/step - loss: 0.8547 - acc: 0.6805\n",
      "Epoch 11/110\n",
      "250/250 [==============================] - 266s 1s/step - loss: 0.7857 - acc: 0.7076\n",
      "Epoch 12/110\n",
      "250/250 [==============================] - 270s 1s/step - loss: 0.7132 - acc: 0.7354\n",
      "Epoch 13/110\n",
      "250/250 [==============================] - 268s 1s/step - loss: 0.6340 - acc: 0.7670\n",
      "Epoch 14/110\n",
      "250/250 [==============================] - 269s 1s/step - loss: 0.5763 - acc: 0.7880\n",
      "Epoch 15/110\n",
      "250/250 [==============================] - 212s 849ms/step - loss: 0.5104 - acc: 0.8141\n",
      "Epoch 16/110\n",
      "250/250 [==============================] - 217s 868ms/step - loss: 0.4583 - acc: 0.8343\n",
      "Epoch 17/110\n",
      "250/250 [==============================] - 212s 849ms/step - loss: 0.4155 - acc: 0.8502\n",
      "Epoch 18/110\n",
      "250/250 [==============================] - 218s 872ms/step - loss: 0.3603 - acc: 0.8686\n",
      "Epoch 19/110\n",
      "250/250 [==============================] - 213s 852ms/step - loss: 0.3279 - acc: 0.8810\n",
      "Epoch 20/110\n",
      "250/250 [==============================] - 211s 842ms/step - loss: 0.2897 - acc: 0.8955\n",
      "Epoch 21/110\n",
      "250/250 [==============================] - 213s 853ms/step - loss: 0.2540 - acc: 0.9086\n",
      "Epoch 22/110\n",
      "250/250 [==============================] - 213s 852ms/step - loss: 0.2349 - acc: 0.9162\n",
      "Epoch 23/110\n",
      "250/250 [==============================] - 213s 850ms/step - loss: 0.2253 - acc: 0.9202\n",
      "Epoch 24/110\n",
      "250/250 [==============================] - 208s 832ms/step - loss: 0.1929 - acc: 0.9304\n",
      "Epoch 25/110\n",
      "250/250 [==============================] - 210s 840ms/step - loss: 0.1817 - acc: 0.9354\n",
      "Epoch 26/110\n",
      "250/250 [==============================] - 209s 835ms/step - loss: 0.1570 - acc: 0.9443\n",
      "Epoch 27/110\n",
      "250/250 [==============================] - 210s 840ms/step - loss: 0.1489 - acc: 0.9469\n",
      "Epoch 28/110\n",
      "250/250 [==============================] - 210s 840ms/step - loss: 0.1428 - acc: 0.9493\n",
      "Epoch 29/110\n",
      "250/250 [==============================] - 216s 863ms/step - loss: 0.1374 - acc: 0.9512\n",
      "Epoch 30/110\n",
      "250/250 [==============================] - 210s 839ms/step - loss: 0.1186 - acc: 0.9581\n",
      "Epoch 31/110\n",
      "250/250 [==============================] - 210s 841ms/step - loss: 0.1320 - acc: 0.9546\n",
      "Epoch 32/110\n",
      "250/250 [==============================] - 216s 863ms/step - loss: 0.1132 - acc: 0.9618\n",
      "Epoch 33/110\n",
      "250/250 [==============================] - 212s 849ms/step - loss: 0.1105 - acc: 0.9621\n",
      "Epoch 34/110\n",
      "250/250 [==============================] - 210s 838ms/step - loss: 0.0986 - acc: 0.9654\n",
      "Epoch 35/110\n",
      "250/250 [==============================] - 213s 852ms/step - loss: 0.0870 - acc: 0.9701\n",
      "Epoch 36/110\n",
      "250/250 [==============================] - 211s 845ms/step - loss: 0.0931 - acc: 0.9679\n",
      "Epoch 37/110\n",
      "250/250 [==============================] - 212s 847ms/step - loss: 0.0868 - acc: 0.9702\n",
      "Epoch 38/110\n",
      "250/250 [==============================] - 211s 845ms/step - loss: 0.0886 - acc: 0.9689\n",
      "Epoch 39/110\n",
      "250/250 [==============================] - 209s 837ms/step - loss: 0.0897 - acc: 0.9693\n",
      "Epoch 40/110\n",
      "250/250 [==============================] - 215s 858ms/step - loss: 0.0793 - acc: 0.9724\n",
      "Epoch 41/110\n",
      "250/250 [==============================] - 209s 836ms/step - loss: 0.0878 - acc: 0.9703\n",
      "Epoch 42/110\n",
      "250/250 [==============================] - 6140s 25s/step - loss: 0.0817 - acc: 0.9720\n",
      "Epoch 43/110\n",
      "250/250 [==============================] - 274s 1s/step - loss: 0.0699 - acc: 0.9767\n",
      "Epoch 44/110\n",
      "250/250 [==============================] - 270s 1s/step - loss: 0.0829 - acc: 0.9720\n",
      "Epoch 45/110\n",
      "250/250 [==============================] - 269s 1s/step - loss: 0.0639 - acc: 0.9790\n",
      "Epoch 46/110\n",
      "250/250 [==============================] - 271s 1s/step - loss: 0.0638 - acc: 0.9778\n",
      "Epoch 47/110\n",
      "250/250 [==============================] - 271s 1s/step - loss: 0.0767 - acc: 0.9734\n",
      "Epoch 48/110\n",
      "250/250 [==============================] - 269s 1s/step - loss: 0.0773 - acc: 0.9733\n",
      "Epoch 49/110\n",
      "250/250 [==============================] - 270s 1s/step - loss: 0.0704 - acc: 0.9760\n",
      "Epoch 50/110\n",
      "250/250 [==============================] - 270s 1s/step - loss: 0.0601 - acc: 0.9797\n",
      "Epoch 51/110\n",
      "250/250 [==============================] - 270s 1s/step - loss: 0.0715 - acc: 0.9754\n",
      "Epoch 52/110\n",
      "250/250 [==============================] - 269s 1s/step - loss: 0.0647 - acc: 0.9778\n",
      "Epoch 53/110\n",
      "250/250 [==============================] - 269s 1s/step - loss: 0.0610 - acc: 0.9792\n",
      "Epoch 54/110\n",
      "250/250 [==============================] - 271s 1s/step - loss: 0.0584 - acc: 0.9798\n",
      "Epoch 55/110\n",
      "250/250 [==============================] - 268s 1s/step - loss: 0.0684 - acc: 0.9764\n",
      "Epoch 56/110\n",
      "250/250 [==============================] - 267s 1s/step - loss: 0.0592 - acc: 0.9796\n",
      "Epoch 57/110\n",
      "250/250 [==============================] - 266s 1s/step - loss: 0.0735 - acc: 0.9750\n",
      "Epoch 58/110\n",
      "250/250 [==============================] - 266s 1s/step - loss: 0.0628 - acc: 0.9778\n",
      "Epoch 59/110\n",
      "250/250 [==============================] - 267s 1s/step - loss: 0.0542 - acc: 0.9812\n",
      "Epoch 60/110\n",
      "250/250 [==============================] - 266s 1s/step - loss: 0.0499 - acc: 0.9830\n",
      "Epoch 61/110\n",
      "250/250 [==============================] - 266s 1s/step - loss: 0.0681 - acc: 0.9770\n",
      "Epoch 62/110\n",
      "250/250 [==============================] - 267s 1s/step - loss: 0.0576 - acc: 0.9815\n",
      "Epoch 63/110\n",
      "250/250 [==============================] - 266s 1s/step - loss: 0.0501 - acc: 0.9825\n",
      "Epoch 64/110\n",
      "250/250 [==============================] - 267s 1s/step - loss: 0.0585 - acc: 0.9801\n",
      "Epoch 65/110\n",
      "250/250 [==============================] - 266s 1s/step - loss: 0.0630 - acc: 0.9788\n",
      "Epoch 66/110\n",
      "250/250 [==============================] - 266s 1s/step - loss: 0.0491 - acc: 0.9835\n",
      "Epoch 67/110\n",
      "250/250 [==============================] - 267s 1s/step - loss: 0.0591 - acc: 0.9785\n",
      "Epoch 68/110\n",
      "250/250 [==============================] - 1308s 5s/step - loss: 0.0605 - acc: 0.9790\n",
      "Epoch 69/110\n",
      "250/250 [==============================] - 219s 877ms/step - loss: 0.0471 - acc: 0.9833\n",
      "Epoch 70/110\n",
      "250/250 [==============================] - 211s 845ms/step - loss: 0.0568 - acc: 0.9799\n",
      "Epoch 71/110\n",
      "250/250 [==============================] - 212s 847ms/step - loss: 0.0536 - acc: 0.9809\n",
      "Epoch 72/110\n",
      "250/250 [==============================] - 208s 833ms/step - loss: 0.0523 - acc: 0.9816\n",
      "Epoch 73/110\n",
      "250/250 [==============================] - 209s 834ms/step - loss: 0.0419 - acc: 0.9849\n",
      "Epoch 74/110\n",
      "250/250 [==============================] - 221s 886ms/step - loss: 0.0503 - acc: 0.9832\n",
      "Epoch 75/110\n",
      "250/250 [==============================] - 216s 864ms/step - loss: 0.0550 - acc: 0.9810\n",
      "Epoch 76/110\n",
      "250/250 [==============================] - 220s 880ms/step - loss: 0.0547 - acc: 0.9811\n",
      "Epoch 77/110\n",
      "250/250 [==============================] - 209s 836ms/step - loss: 0.0464 - acc: 0.9838\n",
      "Epoch 78/110\n",
      "250/250 [==============================] - 211s 846ms/step - loss: 0.0553 - acc: 0.9808\n",
      "Epoch 79/110\n",
      "250/250 [==============================] - 216s 866ms/step - loss: 0.0490 - acc: 0.9830\n",
      "Epoch 80/110\n",
      "250/250 [==============================] - 207s 829ms/step - loss: 0.0522 - acc: 0.9821\n",
      "Epoch 81/110\n",
      "250/250 [==============================] - 208s 832ms/step - loss: 0.0387 - acc: 0.9860\n",
      "Epoch 82/110\n",
      "250/250 [==============================] - 208s 833ms/step - loss: 0.0536 - acc: 0.9820\n",
      "Epoch 83/110\n",
      "250/250 [==============================] - 207s 827ms/step - loss: 0.0485 - acc: 0.9834\n",
      "Epoch 84/110\n",
      "250/250 [==============================] - 214s 856ms/step - loss: 0.0468 - acc: 0.9843\n",
      "Epoch 85/110\n",
      "250/250 [==============================] - 215s 862ms/step - loss: 0.0574 - acc: 0.9811\n",
      "Epoch 86/110\n",
      "250/250 [==============================] - 215s 859ms/step - loss: 0.0430 - acc: 0.9846\n",
      "Epoch 87/110\n",
      "250/250 [==============================] - 217s 867ms/step - loss: 0.0501 - acc: 0.9827\n",
      "Epoch 88/110\n",
      "250/250 [==============================] - 218s 870ms/step - loss: 0.0475 - acc: 0.9836\n",
      "Epoch 89/110\n",
      "250/250 [==============================] - 217s 867ms/step - loss: 0.0358 - acc: 0.9868\n",
      "Epoch 90/110\n",
      "250/250 [==============================] - 218s 871ms/step - loss: 0.0499 - acc: 0.9832\n",
      "Epoch 91/110\n",
      "250/250 [==============================] - 215s 862ms/step - loss: 0.0509 - acc: 0.9826\n",
      "Epoch 92/110\n",
      "250/250 [==============================] - 229s 917ms/step - loss: 0.0391 - acc: 0.9867\n",
      "Epoch 93/110\n",
      "250/250 [==============================] - 266s 1s/step - loss: 0.0490 - acc: 0.9831\n",
      "Epoch 94/110\n",
      "250/250 [==============================] - 266s 1s/step - loss: 0.0411 - acc: 0.9855\n",
      "Epoch 95/110\n",
      "250/250 [==============================] - 266s 1s/step - loss: 0.0481 - acc: 0.9836\n",
      "Epoch 96/110\n",
      "250/250 [==============================] - 265s 1s/step - loss: 0.0499 - acc: 0.9834\n",
      "Epoch 97/110\n",
      "250/250 [==============================] - 220s 878ms/step - loss: 0.0500 - acc: 0.9833\n",
      "Epoch 98/110\n",
      "250/250 [==============================] - 216s 862ms/step - loss: 0.0411 - acc: 0.9859\n",
      "Epoch 99/110\n",
      "250/250 [==============================] - 209s 836ms/step - loss: 0.0501 - acc: 0.9826\n",
      "Epoch 100/110\n",
      "250/250 [==============================] - 208s 833ms/step - loss: 0.0380 - acc: 0.9868\n",
      "Epoch 101/110\n",
      "250/250 [==============================] - 212s 848ms/step - loss: 0.0445 - acc: 0.9846\n",
      "Epoch 102/110\n",
      "250/250 [==============================] - 212s 849ms/step - loss: 0.0543 - acc: 0.9826\n",
      "Epoch 103/110\n",
      "250/250 [==============================] - 210s 842ms/step - loss: 0.0360 - acc: 0.9872\n",
      "Epoch 104/110\n",
      "250/250 [==============================] - 209s 835ms/step - loss: 0.0411 - acc: 0.9860\n",
      "Epoch 105/110\n",
      "250/250 [==============================] - 209s 835ms/step - loss: 0.0527 - acc: 0.9822\n",
      "Epoch 106/110\n",
      "250/250 [==============================] - 209s 835ms/step - loss: 0.0373 - acc: 0.9872\n",
      "Epoch 107/110\n",
      "250/250 [==============================] - 208s 831ms/step - loss: 0.0436 - acc: 0.9857\n",
      "Epoch 108/110\n",
      "250/250 [==============================] - 209s 835ms/step - loss: 0.0442 - acc: 0.9855\n",
      "Epoch 109/110\n",
      "250/250 [==============================] - 209s 834ms/step - loss: 0.0413 - acc: 0.9858\n",
      "Epoch 110/110\n",
      "250/250 [==============================] - 211s 846ms/step - loss: 0.0552 - acc: 0.9818\n"
     ]
    }
   ],
   "source": [
    "fit = True\n",
    "\n",
    "if fit == True:\n",
    "        #model.fit_generator(x_train, y_train, epochs=epochs) #train for all trainset\n",
    "        model.fit_generator(train_generator, steps_per_epoch=batch_size, epochs=epochs) #train for randomly selected one\n",
    "else:\n",
    "        model.load_weights('/data/facial_expression_model_weights.h5') #load weights"
   ]
  },
  {
   "cell_type": "code",
   "execution_count": 12,
   "metadata": {},
   "outputs": [
    {
     "name": "stdout",
     "output_type": "stream",
     "text": [
      "3589/3589 [==============================] - 4s 1ms/step\n",
      "Test loss: 3.6952353651791303\n",
      "Test accuracy: 57.731958763716975\n"
     ]
    }
   ],
   "source": [
    "#overall evaluation\n",
    "score = model.evaluate(x_test, y_test)\n",
    "print('Test loss:', score[0])\n",
    "print('Test accuracy:', 100*score[1])"
   ]
  },
  {
   "cell_type": "code",
   "execution_count": 13,
   "metadata": {},
   "outputs": [],
   "source": [
    "# for drawing bar graph for emotion preditions\n",
    "def emotion_analysis(emotions):\n",
    "    objects = ['angry', 'disgust', 'fear', 'happy', 'sad', 'surprise', 'neutral']\n",
    "    y_pos = np.arange(len(objects))\n",
    "    \n",
    "    plt.bar(y_pos, emotions, align='center', alpha=0.5)\n",
    "    plt.xticks(y_pos, objects)\n",
    "    plt.ylabel('percentage')\n",
    "    plt.title('emotion')\n",
    "    \n",
    "    plt.show()"
   ]
  },
  {
   "cell_type": "code",
   "execution_count": 14,
   "metadata": {},
   "outputs": [],
   "source": [
    "monitor_testset_results = False\n",
    "\n",
    "if monitor_testset_results == True:\n",
    "        #make predictions for test set\n",
    "        predictions = model.predict(x_test)\n",
    "\n",
    "        index = 0\n",
    "        for i in predictions:\n",
    "            if index < 30 and index >= 20:\n",
    "                #print(i) #predicted scores\n",
    "                #print(y_test[index]) #actual scores\n",
    "\n",
    "                testing_img = np.array(x_test[index], 'float32')\n",
    "                testing_img = testing_img.reshape([48, 48]);\n",
    "\n",
    "                plt.gray()\n",
    "                plt.imshow(testing_img)\n",
    "                plt.show()\n",
    "\n",
    "                print(i)\n",
    "\n",
    "                emotion_analysis(i)\n",
    "                print(\"----------------------------------------------\")\n",
    "            index = index + 1"
   ]
  },
  {
   "cell_type": "code",
   "execution_count": 22,
   "metadata": {},
   "outputs": [
    {
     "data": {
      "image/png": "[encoded data removed]",
      "text/plain": [
       "<Figure size 432x288 with 1 Axes>"
      ]
     },
     "metadata": {
      "needs_background": "light"
     },
     "output_type": "display_data"
    },
    {
     "data": {
      "image/png": "[encoded data removed]",
      "text/plain": [
       "<Figure size 432x288 with 1 Axes>"
      ]
     },
     "metadata": {
      "needs_background": "light"
     },
     "output_type": "display_data"
    }
   ],
   "source": [
    "#make prediction for custom image out of test set\n",
    "\n",
    "img = image.load_img(\"C:\\\\Users\\\\Dell\\\\Desktop\\\\training\\\\picture.jpg\", grayscale=True, target_size=(48, 48))\n",
    "\n",
    "x = image.img_to_array(img)\n",
    "x = np.expand_dims(x, axis = 0)\n",
    "\n",
    "x /= 255\n",
    "\n",
    "custom = model.predict(x)\n",
    "emotion_analysis(custom[0])\n",
    "\n",
    "x = np.array(x, 'float32')\n",
    "x = x.reshape([48, 48]);\n",
    "\n",
    "plt.gray()\n",
    "plt.imshow(x)\n",
    "plt.show()"
   ]
  },
  {
   "cell_type": "code",
   "execution_count": null,
   "metadata": {},
   "outputs": [],
   "source": []
  }
 ],
 "metadata": {
  "kernelspec": {
   "display_name": "Python 3",
   "language": "python",
   "name": "python3"
  },
  "language_info": {
   "codemirror_mode": {
    "name": "ipython",
    "version": 3
   },
   "file_extension": ".py",
   "mimetype": "text/x-python",
   "name": "python",
   "nbconvert_exporter": "python",
   "pygments_lexer": "ipython3",
   "version": "3.7.3"
  }
 },
 "nbformat": 4,
 "nbformat_minor": 2
}
