{
  "nbformat": 4,
  "nbformat_minor": 0,
  "metadata": {
    "colab": {
      "name": "nlp_pos",
      "version": "0.3.2",
      "provenance": [],
      "include_colab_link": true
    },
    "kernelspec": {
      "name": "python3",
      "display_name": "Python 3"
    }
  },
  "cells": [
    {
      "cell_type": "markdown",
      "metadata": {
        "id": "view-in-github",
        "colab_type": "text"
      },
      "source": [
        "<a href=\"https://colab.research.google.com/github/ShivangeeSingh/machine-learning/blob/supervisedml/nlp_pos.ipynb\" target=\"_parent\"><img src=\"https://colab.research.google.com/assets/colab-badge.svg\" alt=\"Open In Colab\"/></a>"
      ]
    },
    {
      "cell_type": "code",
      "metadata": {
        "id": "xjWhJkPEfBdo",
        "colab_type": "code",
        "colab": {}
      },
      "source": [
        "import spacy"
      ],
      "execution_count": 0,
      "outputs": []
    },
    {
      "cell_type": "code",
      "metadata": {
        "id": "giJb-WJRfEIr",
        "colab_type": "code",
        "colab": {}
      },
      "source": [
        "nlp=spacy.load('en')"
      ],
      "execution_count": 0,
      "outputs": []
    },
    {
      "cell_type": "code",
      "metadata": {
        "id": "--FAq1kvfJkS",
        "colab_type": "code",
        "colab": {}
      },
      "source": [
        "data=\"Heyy..hlw! whatsup how is everyone is doing? \""
      ],
      "execution_count": 0,
      "outputs": []
    },
    {
      "cell_type": "code",
      "metadata": {
        "id": "Rda_Zqycfaiv",
        "colab_type": "code",
        "colab": {}
      },
      "source": [
        "new_data=nlp(data)  # automatic tokenize"
      ],
      "execution_count": 0,
      "outputs": []
    },
    {
      "cell_type": "code",
      "metadata": {
        "id": "j-0Y_7t6fh6X",
        "colab_type": "code",
        "colab": {
          "base_uri": "https://localhost:8080/",
          "height": 569
        },
        "outputId": "b782feb3-f2ea-491d-b726-1da6abcd7f50"
      },
      "source": [
        "for i in new_data:\n",
        "  print(i,\"lemmatization of word is --->\",i.lemma_)\n",
        "  print(\"##########################################\")\n",
        "  print(i,\"POS \",i.pos_) # Part Of Speech"
      ],
      "execution_count": 9,
      "outputs": [
        {
          "output_type": "stream",
          "text": [
            "Heyy lemmatization of word is ---> heyy\n",
            "##########################################\n",
            "Heyy POS  NOUN\n",
            ".. lemmatization of word is ---> ..\n",
            "##########################################\n",
            ".. POS  PUNCT\n",
            "hlw lemmatization of word is ---> hlw\n",
            "##########################################\n",
            "hlw POS  NOUN\n",
            "! lemmatization of word is ---> !\n",
            "##########################################\n",
            "! POS  PUNCT\n",
            "whatsup lemmatization of word is ---> whatsup\n",
            "##########################################\n",
            "whatsup POS  ADJ\n",
            "how lemmatization of word is ---> how\n",
            "##########################################\n",
            "how POS  ADV\n",
            "is lemmatization of word is ---> be\n",
            "##########################################\n",
            "is POS  VERB\n",
            "everyone lemmatization of word is ---> everyone\n",
            "##########################################\n",
            "everyone POS  NOUN\n",
            "is lemmatization of word is ---> be\n",
            "##########################################\n",
            "is POS  VERB\n",
            "doing lemmatization of word is ---> do\n",
            "##########################################\n",
            "doing POS  VERB\n",
            "? lemmatization of word is ---> ?\n",
            "##########################################\n",
            "? POS  PUNCT\n"
          ],
          "name": "stdout"
        }
      ]
    },
    {
      "cell_type": "code",
      "metadata": {
        "id": "L6k8zq7Gf1L9",
        "colab_type": "code",
        "colab": {}
      },
      "source": [
        ""
      ],
      "execution_count": 0,
      "outputs": []
    }
  ]
}